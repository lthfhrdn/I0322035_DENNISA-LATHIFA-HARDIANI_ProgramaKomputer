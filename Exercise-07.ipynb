{
 "cells": [
  {
   "cell_type": "code",
   "execution_count": 7,
   "metadata": {},
   "outputs": [
    {
     "data": {
      "text/plain": [
       "[[3, 21], [2, 3], [2, 1]]"
      ]
     },
     "execution_count": 7,
     "metadata": {},
     "output_type": "execute_result"
    }
   ],
   "source": [
    "#Buatlah sebuah fungsi untuk membuat matrix berdasarkan input dari user\n",
    "\n",
    "def create_matrix(baris,kolom):\n",
    "    matrix = []\n",
    "\n",
    "    #Tulis kode kamu disini\n",
    "    for i in range(baris):\n",
    "        matrix.append([])\n",
    "\n",
    "        for j in range(kolom):\n",
    "            elemen = int(input(f\"Masukkan elemen matriks[{i}][{j}]: \"))\n",
    "            matrix[i].append(elemen)\n",
    "        \n",
    "    return matrix\n",
    "    \n",
    "baris = int(input('Masukkan Jumlah Baris:\\t'))\n",
    "kolom = int(input('Masukkan Jumlah Kolom:\\t'))\n",
    "\n",
    "create_matrix(baris,kolom)"
   ]
  },
  {
   "cell_type": "code",
   "execution_count": 20,
   "metadata": {},
   "outputs": [],
   "source": [
    "#Buatlah sebuah fungsi untuk menambah dua matrix berdasarkan input user\n",
    "\n",
    "def tambah_matrix(matrix1,matrix2):\n",
    "    tambah = [] \n",
    "    \n",
    "    tambah = [0] * baris\n",
    "    for i in range(baris):\n",
    "        tambah[i] = [0] * kolom\n",
    "        \n",
    "    for i in range(baris):\n",
    "        matrix1.append([])\n",
    "        for j in range(kolom):\n",
    "            angka = int(input(f\"asukkan angka untuk matrix 1 [{i}],[{j}]:\"))\n",
    "            matrix1[i].append(angka)\n",
    "            \n",
    "    for i in range(baris):\n",
    "        matrix2.append([])\n",
    "        for j in range(kolom):\n",
    "            angka = int(input(f\"asukkan angka untuk matrix 2 [{i}],[{j}]:\"))\n",
    "            matrix2[i].append(angka)\n",
    "        \n",
    "    for i in range(len(matrix1)):\n",
    "        for j in range(len(matrix1[i])):\n",
    "            tambah[i][j] = matrix1[i][j]+matrix2[i][j]\n",
    "\n",
    "matrixA = []\n",
    "matrixB = []\n",
    " \n",
    "tambah_matrix(matrixA, matrixB)"
   ]
  },
  {
   "cell_type": "code",
   "execution_count": 14,
   "metadata": {},
   "outputs": [
    {
     "name": "stdout",
     "output_type": "stream",
     "text": [
      "\n",
      "Nilai matrix 1\n",
      "4  6  \n",
      "2  3  \n",
      "1  9  \n",
      "\n",
      "Nilai matrix 2\n",
      "2  3  \n",
      "1  8  \n",
      "31  2  \n",
      "\n",
      "Hasil perkalian matrix A dan B    \n",
      "136   78   \n",
      "68   39   \n",
      "34   117   \n"
     ]
    },
    {
     "data": {
      "text/plain": [
       "[[136, 78], [68, 39], [34, 117]]"
      ]
     },
     "execution_count": 14,
     "metadata": {},
     "output_type": "execute_result"
    }
   ],
   "source": [
    "#Buatlah fungsi untuk mengakalikan dua buah matrix berdasarkan input user\n",
    "\n",
    "def multiply_matrix(matrix1, matrix2):\n",
    "    result=[]\n",
    "    for i in range(0, len(matrix1)):\n",
    "        row = []\n",
    "        for j in range(0, len(matrix1[0])):\n",
    "            total = 0\n",
    "            for k in range (0, len(matrix1)):\n",
    "                total = total + (matrix1[i][j]*matrix2[k][j])\n",
    "            row.append(total)\n",
    "        result.append(row)\n",
    "    print('\\nHasil perkalian matrix A dan B    ')\n",
    "    for i in range(0,len(result)):\n",
    "        for j in range(0, len(result[0])):\n",
    "            print(result[i][j], end='   ')\n",
    "        print ()\n",
    "    return result\n",
    "\n",
    "matrix1 = []\n",
    "for i in range (baris):\n",
    "    matrix1.append([])\n",
    "    for j in range(kolom):\n",
    "        nilai = int(input(f'masukkan nilai matrix 1 [{i}][{j}] = '))\n",
    "        matrix1[i].append(nilai)\n",
    "print('\\nNilai matrix 1')\n",
    "for i in range(len(matrix1)):\n",
    "    for j in range(len(matrix1[0])):\n",
    "        print(matrix1[i][j], end='  ')\n",
    "    print()\n",
    "    \n",
    "matrix2 = []\n",
    "for i in range (baris):\n",
    "    matrix2.append([])\n",
    "    for j in range(kolom):\n",
    "        nilai = int(input(f'masukkan nilai matrix 2 [{i}][{j}]= '))\n",
    "        matrix2[i].append(nilai)\n",
    "print('\\nNilai matrix 2')\n",
    "for i in range(len(matrix2)):\n",
    "    for j in range(len(matrix2[0])):\n",
    "        print(matrix2[i][j], end='  ')\n",
    "    print()\n",
    "\n",
    "multiply_matrix(matrix1, matrix2)"
   ]
  }
 ],
 "metadata": {
  "kernelspec": {
   "display_name": "Python 3",
   "language": "python",
   "name": "python3"
  },
  "language_info": {
   "codemirror_mode": {
    "name": "ipython",
    "version": 3
   },
   "file_extension": ".py",
   "mimetype": "text/x-python",
   "name": "python",
   "nbconvert_exporter": "python",
   "pygments_lexer": "ipython3",
   "version": "3.11.2"
  },
  "orig_nbformat": 4
 },
 "nbformat": 4,
 "nbformat_minor": 2
}
