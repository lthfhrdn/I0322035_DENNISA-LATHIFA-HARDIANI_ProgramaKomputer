{
 "cells": [
  {
   "cell_type": "code",
   "execution_count": 1,
   "metadata": {},
   "outputs": [
    {
     "name": "stdout",
     "output_type": "stream",
     "text": [
      "Dennisa Lathifa Hardiani\n",
      "I0322035\n",
      "A\n"
     ]
    }
   ],
   "source": [
    "print(input(\"Nama: \"))\n",
    "print(input(\"NIM: \"))\n",
    "print(input(\"Kelas: \"))"
   ]
  },
  {
   "attachments": {},
   "cell_type": "markdown",
   "metadata": {},
   "source": [
    "## 1."
   ]
  },
  {
   "attachments": {},
   "cell_type": "markdown",
   "metadata": {},
   "source": [
    "buatlah program sederhana untuk menghitung umur pengguna dengan ketentuan sebagai berikut :\n",
    "* Program meminta pengguna memasukan tanggal, bulan, dan tahun lahir\n",
    "* Program menghitung umur pengguna hingga tanggal 1 januari 2023\n",
    "* Program menampilkan umur dari pengguna"
   ]
  },
  {
   "cell_type": "code",
   "execution_count": 1,
   "metadata": {},
   "outputs": [
    {
     "name": "stdout",
     "output_type": "stream",
     "text": [
      "tanggal lahir Anda = 2004-04-29\n",
      "maka umur Anda adalah = 18\n"
     ]
    }
   ],
   "source": [
    "from datetime import date\n",
    "day = int(input(\"masukkan tanggal lahir anda\"))\n",
    "month = int(input(\"masukkan bulan lahir anda\"))\n",
    "year = int(input(\"masukkan tahun anda lahir\"))\n",
    "\n",
    "tanggal_lahir = date(year, month,day)\n",
    "print(\"tanggal lahir Anda =\",tanggal_lahir)\n",
    "\n",
    "batas = date(2023, 1, 1)\n",
    "umur = (batas - tanggal_lahir).days//365\n",
    "print(\"maka umur Anda adalah =\",umur)"
   ]
  },
  {
   "attachments": {},
   "cell_type": "markdown",
   "metadata": {},
   "source": [
    "## 2."
   ]
  },
  {
   "attachments": {},
   "cell_type": "markdown",
   "metadata": {},
   "source": [
    "Pada 2015, wabah flu burung menyerang Indonesia dan beberapa peternak ayam mengalami kerugian karena banyaknya ayam yang mati. Setiap bulan, jumlah ayamnya berkurang menjadi setengah. Setelah dua bulan, jumlah ayam yang tersisa adalah 200 ekor. Hitunglah jumlah ayam sebelumnya yang dimiliki peternak tersebut! (gunakan rumus deret geometri)\n",
    "\n",
    "> *note: SOAL DIATAS DIKERJAKAN SESUAI DENGAN RUMUS BAKU*"
   ]
  },
  {
   "cell_type": "code",
   "execution_count": 4,
   "metadata": {},
   "outputs": [
    {
     "name": "stdout",
     "output_type": "stream",
     "text": [
      "jumlah ayam yang tersisa = 200\n",
      "jumlah ayam di tahun 2015 = 800.0\n"
     ]
    }
   ],
   "source": [
    "sisa_ayam = 200\n",
    "# mencari jumlah awal dari rumus deret geometri\n",
    "# Un = a * r **(n-1)\n",
    "# a = Un/(r**(n-1)\n",
    "a = 200/((1/2)**2)\n",
    "print(\"jumlah ayam yang tersisa =\",sisa_ayam)\n",
    "print(\"jumlah ayam di tahun 2015 =\", a)\n"
   ]
  },
  {
   "attachments": {},
   "cell_type": "markdown",
   "metadata": {},
   "source": [
    "## 3. "
   ]
  },
  {
   "attachments": {},
   "cell_type": "markdown",
   "metadata": {},
   "source": [
    "* **A** Hitunglah luas Prisma Segitiga dengan ketentuan sebagai berikut:\n",
    "    * Alas dan tutup prisma merupakan segitiga\n",
    "    * Terdapat 3 persegi panjang yang menyinggung alas dan tutup prisma\n",
    "    * Sisi persegi panjang yang menyinggung segitiga adalah sisi lebar\n",
    "```python\n",
    "    dictionary_figure = {\"Persegi\":{\"Sisi\":22},\n",
    "                        \"Persegi Panjang\":{\"Panjang\":10,\"Lebar\":5},\n",
    "                        \"Segitiga Sama Sisi\":{\"Sisi\":6,\"Tinggi\":3**(1/2) * 3},\n",
    "                        \"Lingkaran\":{\"Diameter\":7}}\n",
    "```\n",
    "* **B** Hitunglah luas Tabung dengan ketentuan sebagai berikut:\n",
    "    * Alas dan tutup tabung merupakan lingkaran\n",
    "    * Terdapat 1 persegi yang menyinggung alas dan tutup tabung\n",
    "    * Persegi yang ada mengelilingi lingkaran hingga sisi dari persegi saling bertemu\n",
    "\n",
    "> *note: Pada soal ini kalian hanya boleh menggunakan key-value pair dan index pada list. Tidak diperbolehkan menulis secara langsung dimensi dari figure*"
   ]
  },
  {
   "cell_type": "code",
   "execution_count": 8,
   "metadata": {},
   "outputs": [
    {
     "name": "stdout",
     "output_type": "stream",
     "text": [
      "luas permukaan prisma segitiga yang didapat yaitu 181.1769145362398\n",
      "luas tabung yang didapat yaitu 560.9300000000001\n"
     ]
    }
   ],
   "source": [
    "dictionary_figure = {\"Persegi\":{\"Sisi\":22},\n",
    "                     \"Persegi Panjang\":{\"Panjang\":10,\"Lebar\":5},\n",
    "                     \"Segitiga Sama Sisi\":{\"Sisi\":6,\"Tinggi\":3**(1/2) * 3},\n",
    "                     \"Lingkaran\":{\"Diameter\":7}}\n",
    "#SOAL A (Lp. prisma segitiga)\n",
    "panjang = dictionary_figure[\"Persegi Panjang\"][\"Panjang\"]\n",
    "lebar = dictionary_figure[\"Persegi Panjang\"][\"Lebar\"]\n",
    "sisi_segitiga = dictionary_figure[\"Segitiga Sama Sisi\"][\"Sisi\"]\n",
    "tinggi_segitiga = dictionary_figure[\"Segitiga Sama Sisi\"][\"Tinggi\"]\n",
    "luas_persegipanjang = panjang*lebar\n",
    "luas_segitiga = 1/2*sisi_segitiga*tinggi_segitiga\n",
    "luas_prisma = 2*luas_segitiga + 3*luas_persegipanjang\n",
    "print(\"luas permukaan prisma segitiga yang didapat yaitu\", luas_prisma)\n",
    "\n",
    "#SOAL B (L. Tabung)\n",
    "sisi = dictionary_figure[\"Persegi\"][\"Sisi\"]\n",
    "diameter = dictionary_figure[\"Lingkaran\"][\"Diameter\"]\n",
    "jari = diameter/2\n",
    "luas_persegi = sisi**2\n",
    "luas_lingkaran = 3.14*(jari**2)\n",
    "luas_tabung = 2*luas_lingkaran + luas_persegi\n",
    "print(\"luas tabung yang didapat yaitu\", luas_tabung)\n"
   ]
  }
 ],
 "metadata": {
  "kernelspec": {
   "display_name": "Python 3",
   "language": "python",
   "name": "python3"
  },
  "language_info": {
   "codemirror_mode": {
    "name": "ipython",
    "version": 3
   },
   "file_extension": ".py",
   "mimetype": "text/x-python",
   "name": "python",
   "nbconvert_exporter": "python",
   "pygments_lexer": "ipython3",
   "version": "3.11.2"
  },
  "orig_nbformat": 4,
  "vscode": {
   "interpreter": {
    "hash": "5addf786bcd861d1ce5006f23111f8cbb206731e5b61b0a5632ba9e0252558a8"
   }
  }
 },
 "nbformat": 4,
 "nbformat_minor": 2
}
