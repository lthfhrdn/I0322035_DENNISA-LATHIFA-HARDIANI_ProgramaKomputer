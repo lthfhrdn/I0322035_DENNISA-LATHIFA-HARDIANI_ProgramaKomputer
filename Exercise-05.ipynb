{
 "cells": [
  {
   "attachments": {},
   "cell_type": "markdown",
   "metadata": {},
   "source": [
    "1. Buatlah program untuk menampilkan total penjumlahan bilangan ganjil dan total penjumlahan bilangan genap dengan input dari user berupa range (batas atas dan batas bawah)!"
   ]
  },
  {
   "cell_type": "code",
   "execution_count": 1,
   "metadata": {},
   "outputs": [
    {
     "name": "stdout",
     "output_type": "stream",
     "text": [
      "Hasil penjumlahan bilangan ganjil dengan range (3,50) = 624\n",
      "Hasil penjumlahan bilangan ganjil dengan range (3,50) = 648\n"
     ]
    }
   ],
   "source": [
    "# Kerjakan nomor 1 di sini\n",
    "batas_atas = int(input(\"masukkan batas bawah:\"))\n",
    "batas_bawah = int(input(\"masukkan batas atas:\"))\n",
    "jumlah_bilganjil = 0\n",
    "jumlah_bilgenap = 0\n",
    "\n",
    "if batas_atas > batas_bawah:\n",
    "    batas_atas,batas_bawah = batas_bawah,batas_atas\n",
    "for bilangan in range (batas_atas,batas_bawah+1):\n",
    "    if bilangan %2==1:\n",
    "        jumlah_bilganjil += bilangan\n",
    "    else:\n",
    "        jumlah_bilgenap += bilangan\n",
    "\n",
    "print(f\"Hasil penjumlahan bilangan ganjil dengan range ({batas_atas},{batas_bawah}) = {jumlah_bilganjil}\")\n",
    "print(f\"Hasil penjumlahan bilangan ganjil dengan range ({batas_atas},{batas_bawah}) = {jumlah_bilgenap}\")\n",
    "\n",
    "        "
   ]
  },
  {
   "attachments": {},
   "cell_type": "markdown",
   "metadata": {},
   "source": [
    "2. Buatlah sebuah list yang berisi daftar makanan khas daerah (minimal 10 makanan termasuk makanan khas Solo). Kemudian buat program pencarian menggunakan pengulangan. Apabila nama makanan yang user inputkan sudah sesuai dengan isi list maka program akan berhenti dan menampilkan output \"(makanan yang diinput user) adalah makanan khas daerah\"."
   ]
  },
  {
   "cell_type": "code",
   "execution_count": 4,
   "metadata": {},
   "outputs": [
    {
     "name": "stdout",
     "output_type": "stream",
     "text": [
      "Bika Ambon bukan makanan khas Solo\n"
     ]
    }
   ],
   "source": [
    "# Kerjakan nomor 2 di sini\n",
    "makanan_khas_solo = [\"Gudeg Ayu\",\"Serabi\", \"Timlo\", \"Selat Solo\", \"Nasi Liwet\", \"Jepun\", \"Sate Buntel\", \"Tengkleng\", \"Tahu Kupat\", \"Tengkleng\"]\n",
    "\n",
    "while True:\n",
    "    makanan = input(\"masukkan nama makanan :\")\n",
    "    if makanan.lower() in makanan_khas_solo : \n",
    "        print(f\"{makanan} merupakan makanan khas Solo\")\n",
    "    else :\n",
    "        print(f\"{makanan} bukan makanan khas Solo\")\n",
    "    break\n",
    "        \n",
    "    "
   ]
  },
  {
   "attachments": {},
   "cell_type": "markdown",
   "metadata": {},
   "source": [
    "3. Buatlah program untuk menghitung rata-rata 7 bilangan dimana bilangan-bilangan tersebut didapat melalui input user!"
   ]
  },
  {
   "cell_type": "code",
   "execution_count": 40,
   "metadata": {},
   "outputs": [
    {
     "name": "stdout",
     "output_type": "stream",
     "text": [
      "[2, 11, 16, 18, 90, 93, 102] rata-rata bilangan tersebut =  47.42857142857143\n"
     ]
    }
   ],
   "source": [
    "# Kerjakan nomor 3 di sini\n",
    "angka = 0\n",
    "list = []\n",
    "while len(list) < 7:\n",
    "    x = int(input(\"masukkan angka\"))\n",
    "    list.append(x)\n",
    " \n",
    "for i in range (0,len(list)):\n",
    "    angka = angka + list[i]\n",
    "    rata = angka/len(list)\n",
    "\n",
    "print(f\"{list} rata-rata bilangan tersebut = \", rata)"
   ]
  }
 ],
 "metadata": {
  "kernelspec": {
   "display_name": "Python 3",
   "language": "python",
   "name": "python3"
  },
  "language_info": {
   "name": "python",
   "version": "3.11.2"
  },
  "orig_nbformat": 4
 },
 "nbformat": 4,
 "nbformat_minor": 2
}
